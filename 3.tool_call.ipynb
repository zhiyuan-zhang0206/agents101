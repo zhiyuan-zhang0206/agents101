{
  "cells": [
    {
      "cell_type": "raw",
      "metadata": {
        "vscode": {
          "languageId": "raw"
        }
      },
      "source": [
        "## 工具调用 (Tool Calling)\n",
        "\n",
        "在这个notebook中，我们将演示如何让LLM调用外部工具/函数。工具调用是构建AI Agent的核心功能。\n",
        "\n",
        "### 什么是工具调用？\n",
        "- 允许LLM调用预定义的函数或工具\n",
        "- LLM决定何时调用什么工具\n",
        "- 工具执行后将结果返回给LLM\n",
        "- LLM基于工具结果生成最终响应\n",
        "\n",
        "### 应用场景\n",
        "- 数学计算\n",
        "- 数据查询\n",
        "- API调用\n",
        "- 文件操作\n",
        "- 等等...\n"
      ]
    },
    {
      "cell_type": "code",
      "execution_count": 12,
      "metadata": {},
      "outputs": [
        {
          "name": "stdout",
          "output_type": "stream",
          "text": [
            "工具函数已定义完成\n"
          ]
        }
      ],
      "source": [
        "from langchain_google_genai import ChatGoogleGenerativeAI\n",
        "from langchain_core.messages import HumanMessage, AIMessage, SystemMessage, BaseMessage\n",
        "from pydantic import BaseModel, Field\n",
        "import json\n",
        "import os\n",
        "import subprocess\n",
        "import dotenv\n",
        "\n",
        "dotenv.load_dotenv()\n",
        "\n",
        "model = ChatGoogleGenerativeAI(model=\"gemini-2.5-pro\", )\n",
        "\n",
        "os.makedirs(\"./temp\", exist_ok=True)\n",
        "\n",
        "def write_file(filename: str, content: str) -> str:\n",
        "    \"\"\"写入文件到temp目录\"\"\"\n",
        "    try:\n",
        "        filepath = os.path.join(\"./temp\", filename)\n",
        "        with open(filepath, \"w\", encoding=\"utf-8\") as f:\n",
        "            f.write(content)\n",
        "        return f\"文件已成功写入: {filepath}\"\n",
        "    except Exception as e:\n",
        "        return f\"写入文件失败: {str(e)}\"\n",
        "\n",
        "def run_python_file(filename: str) -> str:\n",
        "    \"\"\"运行temp目录下的Python文件\"\"\"\n",
        "    try:\n",
        "        filepath = os.path.join(\"./temp\", filename)\n",
        "        if not os.path.exists(filepath):\n",
        "            return f\"文件不存在: {filepath}\"\n",
        "        \n",
        "        result = subprocess.run(\n",
        "            [\"python3\", filepath], \n",
        "            capture_output=True, \n",
        "            text=True,\n",
        "            cwd=\"./temp\"\n",
        "        )\n",
        "        \n",
        "        output = \"\"\n",
        "        if result.stdout:\n",
        "            output += f\"输出:\\n{result.stdout}\\n\"\n",
        "        if result.stderr:\n",
        "            output += f\"错误:\\n{result.stderr}\\n\"\n",
        "        if result.returncode != 0:\n",
        "            output += f\"返回码: {result.returncode}\\n\"\n",
        "            \n",
        "        return output if output else \"程序运行完成，无输出\"\n",
        "    except Exception as e:\n",
        "        return f\"运行Python文件失败: {str(e)}\"\n",
        "\n",
        "print(\"工具函数已定义完成\")\n"
      ]
    },
    {
      "cell_type": "raw",
      "metadata": {
        "vscode": {
          "languageId": "raw"
        }
      },
      "source": [
        "### 方法一：使用 Pydantic JSON Schema + 手动解析\n",
        "\n",
        "第一种方法是定义工具调用的结构化格式，让LLM返回工具调用的JSON，然后手动解析并执行。\n"
      ]
    },
    {
      "cell_type": "code",
      "execution_count": 15,
      "metadata": {},
      "outputs": [
        {
          "name": "stdout",
          "output_type": "stream",
          "text": [
            "文件已成功写入: ./temp/mle_verification.py\n"
          ]
        }
      ],
      "source": [
        "\n",
        "from pydantic import field_validator\n",
        "from typing import Union\n",
        "\n",
        "class ToolCall(BaseModel):\n",
        "    \"\"\"工具调用\"\"\"\n",
        "    tool_name: str = Field(description=\"要调用的工具名称\")\n",
        "    arguments: dict = Field(description=\"工具调用的参数\")\n",
        "    \n",
        "    @field_validator('arguments', mode='before')\n",
        "    @classmethod\n",
        "    def parse_arguments(cls, v):\n",
        "        \"\"\"如果arguments是字符串，尝试解析为字典\"\"\"\n",
        "        if isinstance(v, str):\n",
        "            try:\n",
        "                return json.loads(v)\n",
        "            except json.JSONDecodeError:\n",
        "                raise ValueError(f\"无法解析arguments: {v}\")\n",
        "        return v\n",
        "\n",
        "structured_model = model.with_structured_output(ToolCall)\n",
        "\n",
        "system_prompt = f\"\"\"\n",
        "你是一个编程助手。你可以使用以下工具：\n",
        "\n",
        "write_file:\n",
        "- 写入文件到temp目录\n",
        "- arguments: filename, content\n",
        "\n",
        "run_python_file:\n",
        "- 运行temp目录下的Python文件\n",
        "- arguments: filename\n",
        "\n",
        "用户会给你一个任务，你需要决定调用哪个工具并提供相应的参数。\n",
        "如果任务需要多个步骤，请先完成第一步。\n",
        "\"\"\"\n",
        "\n",
        "user_task = \"请写一个Python代码来验证一维Normal分布的最大似然估计(MLE)公式，使用模拟数据进行验证\"\n",
        "\n",
        "messages = [\n",
        "    SystemMessage(content=system_prompt),\n",
        "    HumanMessage(content=user_task)\n",
        "]\n",
        "\n",
        "tool_call = structured_model.invoke(messages)\n",
        "\n",
        "if tool_call.tool_name == \"write_file\":  # type: ignore\n",
        "    result = write_file(**tool_call.arguments)  # type: ignore\n",
        "elif tool_call.tool_name == \"run_python_file\":  # type: ignore\n",
        "    result = run_python_file(**tool_call.arguments)  # type: ignore\n",
        "else:\n",
        "    result = f\"未知工具: {tool_call.tool_name}\"  # type: ignore\n",
        "print(result)"
      ]
    },
    {
      "cell_type": "code",
      "execution_count": null,
      "metadata": {},
      "outputs": [],
      "source": [
        "tool_call"
      ]
    },
    {
      "cell_type": "raw",
      "metadata": {
        "vscode": {
          "languageId": "raw"
        }
      },
      "source": [
        "### 方法二：使用 LangChain Function Calling\n",
        "\n",
        "第二种方法是使用LangChain的内置function calling功能，这样可以自动处理工具调用的解析和执行。\n"
      ]
    },
    {
      "cell_type": "code",
      "execution_count": null,
      "metadata": {},
      "outputs": [],
      "source": [
        "from langchain_core.tools import tool\n",
        "from langchain_core.messages import ToolMessage\n",
        "\n",
        "# 使用装饰器定义工具\n",
        "@tool\n",
        "def write_file_tool(filename: str, content: str) -> str:\n",
        "    \"\"\"写入文件到temp目录\"\"\"\n",
        "    return write_file(filename, content)\n",
        "\n",
        "@tool  \n",
        "def run_python_file_tool(filename: str) -> str:\n",
        "    \"\"\"运行temp目录下的Python文件\"\"\"\n",
        "    return run_python_file(filename)\n",
        "\n",
        "# 创建带有工具的模型\n",
        "tools = [write_file_tool, run_python_file_tool]\n",
        "llm_with_tools = model.bind_tools(tools)\n",
        "\n",
        "print(\"=== 方法二：使用 LangChain Function Calling ===\")\n",
        "print(f\"用户任务: {user_task}\")\n",
        "\n",
        "# 创建agent循环\n",
        "messages = [\n",
        "    SystemMessage(content=\"你是一个编程助手。用户会给你编程任务，你需要使用可用的工具来完成任务。\"),\n",
        "    HumanMessage(content=user_task)\n",
        "]\n",
        "\n",
        "max_iterations = 5\n",
        "current_iteration = 0\n",
        "\n",
        "while current_iteration < max_iterations:\n",
        "    current_iteration += 1\n",
        "    print(f\"\\n--- 迭代 {current_iteration} ---\")\n",
        "    \n",
        "    # 调用模型\n",
        "    response = llm_with_tools.invoke(messages)\n",
        "    messages.append(response)\n",
        "    \n",
        "    print(f\"模型回复: {response.content}\")\n",
        "    \n",
        "    # 检查是否有工具调用\n",
        "    if hasattr(response, 'tool_calls') and response.tool_calls:  # type: ignore\n",
        "        print(f\"工具调用: {len(response.tool_calls)} 个\")  # type: ignore\n",
        "        \n",
        "        # 执行所有工具调用\n",
        "        for tool_call in response.tool_calls:  # type: ignore\n",
        "            print(f\"调用工具: {tool_call['name']} with args: {tool_call['args']}\")\n",
        "            \n",
        "            # 执行工具\n",
        "            if tool_call['name'] == 'write_file_tool':\n",
        "                result = write_file_tool.invoke(tool_call['args'])\n",
        "            elif tool_call['name'] == 'run_python_file_tool':\n",
        "                result = run_python_file_tool.invoke(tool_call['args'])\n",
        "            else:\n",
        "                result = f\"未知工具: {tool_call['name']}\"\n",
        "            \n",
        "            print(f\"工具结果: {result}\")\n",
        "            \n",
        "            # 将工具结果添加到消息中\n",
        "            messages.append(ToolMessage(\n",
        "                content=result,\n",
        "                tool_call_id=tool_call['id']\n",
        "            ))\n",
        "        \n",
        "        # 如果有工具调用，继续下一轮\n",
        "        continue\n",
        "    else:\n",
        "        # 没有工具调用，任务完成\n",
        "        print(\"任务完成！\")\n",
        "        break\n",
        "\n",
        "print(f\"\\n总共进行了 {current_iteration} 轮对话\")\n"
      ]
    },
    {
      "cell_type": "raw",
      "metadata": {
        "vscode": {
          "languageId": "raw"
        }
      },
      "source": [
        "### 两种方法的比较\n",
        "\n",
        "#### 方法一：Pydantic JSON Schema + 手动解析\n",
        "**优点：**\n",
        "- 完全控制工具调用的流程\n",
        "- 可以自定义复杂的工具调用逻辑\n",
        "- 易于调试和理解\n",
        "\n",
        "**缺点：**\n",
        "- 需要手动处理工具调用的解析\n",
        "- 需要自己管理多轮对话状态\n",
        "- 错误处理复杂\n",
        "- 代码量较大\n",
        "\n",
        "#### 方法二：LangChain Function Calling\n",
        "**优点：**\n",
        "- 自动处理工具调用的解析和执行\n",
        "- 内置多轮对话支持\n",
        "- 代码简洁\n",
        "- 错误处理更robust\n",
        "- 与LangChain生态系统无缝集成\n",
        "\n",
        "**缺点：**\n",
        "- 对工具调用流程的控制较少\n",
        "- 依赖框架的实现\n",
        "- 调试相对困难\n",
        "\n",
        "### 最佳实践建议\n",
        "\n",
        "1. **对于简单的工具调用场景**：推荐使用 **方法二（LangChain Function Calling）**\n",
        "2. **对于需要复杂控制逻辑的场景**：考虑使用 **方法一** 或结合两种方法\n",
        "3. **对于生产环境**：优先选择 **方法二**，因为它更稳定、维护成本更低\n",
        "4. **对于学习和理解工具调用原理**：建议先理解 **方法一**，再使用 **方法二**\n",
        "\n",
        "### 总结\n",
        "\n",
        "Tool Calling是构建AI Agent的核心功能。虽然手动实现可以提供更多控制，但使用成熟的框架功能可以让我们更专注于业务逻辑，减少底层实现的复杂性。选择哪种方法取决于具体的应用场景和需求。\n"
      ]
    },
    {
      "cell_type": "code",
      "execution_count": null,
      "metadata": {},
      "outputs": [],
      "source": []
    }
  ],
  "metadata": {
    "kernelspec": {
      "display_name": "agent",
      "language": "python",
      "name": "python3"
    },
    "language_info": {
      "codemirror_mode": {
        "name": "ipython",
        "version": 3
      },
      "file_extension": ".py",
      "mimetype": "text/x-python",
      "name": "python",
      "nbconvert_exporter": "python",
      "pygments_lexer": "ipython3",
      "version": "3.13.5"
    }
  },
  "nbformat": 4,
  "nbformat_minor": 2
}
