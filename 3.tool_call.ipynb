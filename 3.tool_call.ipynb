{
  "cells": [
    {
      "cell_type": "markdown",
      "metadata": {},
      "source": [
        "## 工具调用 (Tool Calling)\n",
        "\n",
        "在这个notebook中，我们将演示如何让LLM调用外部工具/函数。工具调用是构建AI Agent的核心功能。\n"
      ]
    },
    {
      "cell_type": "code",
      "execution_count": 10,
      "metadata": {},
      "outputs": [
        {
          "name": "stdout",
          "output_type": "stream",
          "text": [
            "工具函数已定义完成\n"
          ]
        }
      ],
      "source": [
        "from langchain_google_genai import ChatGoogleGenerativeAI\n",
        "from langchain_core.messages import HumanMessage, AIMessage, SystemMessage, BaseMessage\n",
        "from pydantic import BaseModel, Field\n",
        "import os\n",
        "import subprocess\n",
        "import dotenv\n",
        "\n",
        "dotenv.load_dotenv()\n",
        "\n",
        "model = ChatGoogleGenerativeAI(model=\"gemini-2.5-flash\")\n",
        "\n",
        "os.makedirs(\"./temp\", exist_ok=True)\n",
        "\n",
        "def write_file(filename: str, content: str) -> str:\n",
        "    \"\"\"写入文件到temp目录\"\"\"\n",
        "    try:\n",
        "        filepath = os.path.join(\"./temp\", filename)\n",
        "        with open(filepath, \"w\", encoding=\"utf-8\") as f:\n",
        "            f.write(content)\n",
        "        return f\"文件已成功写入: {filepath}\"\n",
        "    except Exception as e:\n",
        "        return f\"写入文件失败: {str(e)}\"\n",
        "\n",
        "def run_python_file(filename: str) -> str:\n",
        "    \"\"\"运行temp目录下的Python文件\"\"\"\n",
        "    try:\n",
        "        filepath = os.path.join(\"./temp\", filename)\n",
        "        if not os.path.exists(filepath):\n",
        "            return f\"文件不存在: {filepath}\"\n",
        "        \n",
        "        result = subprocess.run(\n",
        "            [\"python3\", filepath], \n",
        "            capture_output=True, \n",
        "            text=True,\n",
        "            cwd=\"./temp\"\n",
        "        )\n",
        "        \n",
        "        output = \"\"\n",
        "        if result.stdout:\n",
        "            output += f\"输出:\\n{result.stdout}\\n\"\n",
        "        if result.stderr:\n",
        "            output += f\"错误:\\n{result.stderr}\\n\"\n",
        "        if result.returncode != 0:\n",
        "            output += f\"返回码: {result.returncode}\\n\"\n",
        "            \n",
        "        return output if output else \"程序运行完成，无输出\"\n",
        "    except Exception as e:\n",
        "        return f\"运行Python文件失败: {str(e)}\"\n",
        "\n",
        "print(\"工具函数已定义完成\")\n"
      ]
    },
    {
      "cell_type": "markdown",
      "metadata": {},
      "source": [
        "### 方法一：使用 Pydantic JSON Schema + 手动解析\n",
        "\n",
        "第一种方法是定义工具调用的结构化格式，让LLM返回工具调用的JSON，然后手动解析并执行。\n"
      ]
    },
    {
      "cell_type": "code",
      "execution_count": 11,
      "metadata": {},
      "outputs": [
        {
          "name": "stdout",
          "output_type": "stream",
          "text": [
            "工具调用: tool_name='write_file' arguments=WriteFileArgs(filename='verify_normal_mle.py', content='#!/usr/bin/env python\\n# -*- coding: utf-8 -*-\\n\\nimport numpy as np\\nimport matplotlib.pyplot as plt\\n\\ndef verify_normal_mle(num_samples=1000, true_mean=5.0, true_std_dev=2.0):\\n    \"\"\"\\n    验证一维Normal分布的最大似然估计(MLE)公式。\\n\\n    参数：\\n    num_samples (int): 模拟数据的样本数量。\\n    true_mean (float): 真实的正态分布均值。\\n    true_std_dev (float): 真实的正态分布标准差。\\n    \"\"\"\\n\\n    print(f\"\\\\n--- 验证一维Normal分布的MLE公式 ---\")\\n    print(f\"真实参数：均值 = {true_mean:.4f}, 标准差 = {true_std_dev:.4f}\")\\n\\n    # 1. 生成模拟数据\\n    np.random.seed(42) # 为了结果的可复现性\\n    data = np.random.normal(loc=true_mean, scale=true_std_dev, size=num_samples)\\n    print(f\"生成了 {num_samples} 个样本数据。\")\\n\\n    # 2. 计算MLE估计值\\n    # 均值的MLE估计：样本均值\\n    mle_mean = np.mean(data)\\n\\n    # 方差的MLE估计：(1/N) * sum((xi - mu_mle)^2)\\n    # 注意：这里是MLE的方差估计，而不是无偏估计（无偏估计分母是N-1）\\n    mle_variance = np.sum((data - mle_mean)**2) / num_samples\\n    mle_std_dev = np.sqrt(mle_variance)\\n\\n    print(f\"\\\\nMLE估计值：\")\\n    print(f\"  估计均值 (mu_hat)    = {mle_mean:.4f}\")\\n    print(f\"  估计标准差 (sigma_hat) = {mle_std_dev:.4f}\")\\n    print(f\"  估计方差 (sigma_hat^2) = {mle_variance:.4f}\")\\n\\n    # 3. 比较真实值与估计值\\n    print(f\"\\\\n与真实值的比较：\")\\n    print(f\"  均值误差：|{mle_mean:.4f} - {true_mean:.4f}| = {abs(mle_mean - true_mean):.4f}\")\\n    print(f\"  标准差误差：|{mle_std_dev:.4f} - {true_std_dev:.4f}| = {abs(mle_std_dev - true_std_dev):.4f}\")\\n\\n    # 4. 可视化 (可选)\\n    plt.figure(figsize=(10, 6))\\n    plt.hist(data, bins=30, density=True, alpha=0.6, color=\\'g\\', label=\\'模拟数据直方图\\')\\n\\n    xmin, xmax = plt.xlim()\\n    x = np.linspace(xmin, xmax, 100)\\n    p = (1 / (np.sqrt(2 * np.pi) * mle_std_dev)) * np.exp(-((x - mle_mean)**2) / (2 * mle_variance))\\n    plt.plot(x, p, \\'k\\', linewidth=2, label=\\'MLE估计的正态分布PDF\\')\\n\\n    plt.title(\\'一维Normal分布MLE验证\\')\\n    plt.xlabel(\\'值\\')\\n    plt.ylabel(\\'概率密度\\')\\n    plt.legend()\\n    plt.grid(True)\\n    plt.show()\\n\\n# 运行验证\\nif __name__ == \"__main__\":\\n    verify_normal_mle() # 使用默认参数\\n    # 也可以尝试不同参数：\\n    # verify_normal_mle(num_samples=5000, true_mean=10.0, true_std_dev=1.5)\\n')\n",
            "工具执行结果: 文件已成功写入: ./temp/verify_normal_mle.py\n"
          ]
        }
      ],
      "source": [
        "from typing import Union, Any, Literal\n",
        "\n",
        "class WriteFileArgs(BaseModel):\n",
        "    filename: str = Field(description=\"文件名\")\n",
        "    content: str = Field(description=\"文件内容\")\n",
        "\n",
        "# class RunPythonFileArgs(BaseModel):\n",
        "#     filename: str = Field(description=\"要运行的Python文件名\")\n",
        "\n",
        "class ToolCall(BaseModel):\n",
        "    \"\"\"工具调用\"\"\"\n",
        "    tool_name: Literal[\"write_file\"] = Field(description=\"要调用的工具名称\")\n",
        "    arguments: WriteFileArgs = Field(description=\"工具调用的参数\")\n",
        "\n",
        "system_prompt = \"\"\"\n",
        "你是一个编程助手。你需要根据用户的任务调用合适的工具。\n",
        "\n",
        "可用工具：\n",
        "1. write_file - 写入文件到temp目录\n",
        "   参数：filename (文件名), content (文件内容)\n",
        "\n",
        "请严格按照以下格式返回：\n",
        "- tool_name: \"write_file\"\n",
        "- arguments: 相应的参数对象\n",
        "\n",
        "\"\"\"\n",
        "\n",
        "user_task = \"请写一个Python代码来验证一维Normal分布的最大似然估计(MLE)公式，使用模拟数据进行验证\"\n",
        "\n",
        "simple_model = model.with_structured_output(ToolCall)\n",
        "\n",
        "messages = [\n",
        "    SystemMessage(content=system_prompt),\n",
        "    HumanMessage(content=user_task)\n",
        "]\n",
        "\n",
        "tool_call = simple_model.invoke(messages)\n",
        "print(f\"工具调用: {tool_call}\")\n",
        "\n",
        "# 手动解析并执行工具\n",
        "if tool_call.tool_name == \"write_file\":  # type: ignore\n",
        "    result = write_file(**tool_call.arguments.model_dump())  # type: ignore\n",
        "else:\n",
        "    result = f\"未知工具: {tool_call.tool_name}\"  # type: ignore\n",
        "\n",
        "print(f\"工具执行结果: {result}\")"
      ]
    },
    {
      "cell_type": "code",
      "execution_count": 12,
      "metadata": {},
      "outputs": [
        {
          "data": {
            "text/plain": [
              "ToolCall(tool_name='write_file', arguments=WriteFileArgs(filename='verify_normal_mle.py', content='#!/usr/bin/env python\\n# -*- coding: utf-8 -*-\\n\\nimport numpy as np\\nimport matplotlib.pyplot as plt\\n\\ndef verify_normal_mle(num_samples=1000, true_mean=5.0, true_std_dev=2.0):\\n    \"\"\"\\n    验证一维Normal分布的最大似然估计(MLE)公式。\\n\\n    参数：\\n    num_samples (int): 模拟数据的样本数量。\\n    true_mean (float): 真实的正态分布均值。\\n    true_std_dev (float): 真实的正态分布标准差。\\n    \"\"\"\\n\\n    print(f\"\\\\n--- 验证一维Normal分布的MLE公式 ---\")\\n    print(f\"真实参数：均值 = {true_mean:.4f}, 标准差 = {true_std_dev:.4f}\")\\n\\n    # 1. 生成模拟数据\\n    np.random.seed(42) # 为了结果的可复现性\\n    data = np.random.normal(loc=true_mean, scale=true_std_dev, size=num_samples)\\n    print(f\"生成了 {num_samples} 个样本数据。\")\\n\\n    # 2. 计算MLE估计值\\n    # 均值的MLE估计：样本均值\\n    mle_mean = np.mean(data)\\n\\n    # 方差的MLE估计：(1/N) * sum((xi - mu_mle)^2)\\n    # 注意：这里是MLE的方差估计，而不是无偏估计（无偏估计分母是N-1）\\n    mle_variance = np.sum((data - mle_mean)**2) / num_samples\\n    mle_std_dev = np.sqrt(mle_variance)\\n\\n    print(f\"\\\\nMLE估计值：\")\\n    print(f\"  估计均值 (mu_hat)    = {mle_mean:.4f}\")\\n    print(f\"  估计标准差 (sigma_hat) = {mle_std_dev:.4f}\")\\n    print(f\"  估计方差 (sigma_hat^2) = {mle_variance:.4f}\")\\n\\n    # 3. 比较真实值与估计值\\n    print(f\"\\\\n与真实值的比较：\")\\n    print(f\"  均值误差：|{mle_mean:.4f} - {true_mean:.4f}| = {abs(mle_mean - true_mean):.4f}\")\\n    print(f\"  标准差误差：|{mle_std_dev:.4f} - {true_std_dev:.4f}| = {abs(mle_std_dev - true_std_dev):.4f}\")\\n\\n    # 4. 可视化 (可选)\\n    plt.figure(figsize=(10, 6))\\n    plt.hist(data, bins=30, density=True, alpha=0.6, color=\\'g\\', label=\\'模拟数据直方图\\')\\n\\n    xmin, xmax = plt.xlim()\\n    x = np.linspace(xmin, xmax, 100)\\n    p = (1 / (np.sqrt(2 * np.pi) * mle_std_dev)) * np.exp(-((x - mle_mean)**2) / (2 * mle_variance))\\n    plt.plot(x, p, \\'k\\', linewidth=2, label=\\'MLE估计的正态分布PDF\\')\\n\\n    plt.title(\\'一维Normal分布MLE验证\\')\\n    plt.xlabel(\\'值\\')\\n    plt.ylabel(\\'概率密度\\')\\n    plt.legend()\\n    plt.grid(True)\\n    plt.show()\\n\\n# 运行验证\\nif __name__ == \"__main__\":\\n    verify_normal_mle() # 使用默认参数\\n    # 也可以尝试不同参数：\\n    # verify_normal_mle(num_samples=5000, true_mean=10.0, true_std_dev=1.5)\\n'))"
            ]
          },
          "execution_count": 12,
          "metadata": {},
          "output_type": "execute_result"
        }
      ],
      "source": [
        "tool_call"
      ]
    },
    {
      "cell_type": "markdown",
      "metadata": {},
      "source": [
        "### 方法二：使用 Function Calling\n",
        "\n",
        "第二种方法是使用LangChain的内置 .bind_tools() 功能 (实际上是包装了模型提供商的function calling功能)，这样可以自动处理工具调用的解析和执行。\n"
      ]
    },
    {
      "cell_type": "code",
      "execution_count": null,
      "metadata": {},
      "outputs": [
        {
          "name": "stdout",
          "output_type": "stream",
          "text": [
            "工具执行结果: 文件已成功写入: ./temp/mle_normal_distribution.py\n"
          ]
        }
      ],
      "source": [
        "from langchain_core.tools import tool\n",
        "from langchain_core.messages import ToolMessage\n",
        "\n",
        "# 使用装饰器定义工具，可以提供符合Google格式的docstring\n",
        "@tool(parse_docstring=True)\n",
        "def write_file_tool(filename: str, content: str) -> str:\n",
        "    \"\"\"写入文件到temp目录，系统自动拼接 \"./temp/\" 前缀, 例如 filename=\"test.txt\" 则实际写入 \"./temp/test.txt\"\n",
        "\n",
        "    Args:\n",
        "        filename: 文件名\n",
        "        content: 文件内容\n",
        "\n",
        "    Returns:\n",
        "        操作结果\n",
        "    \"\"\"\n",
        "    return write_file(filename, content)\n",
        "\n",
        "@tool(parse_docstring=True)\n",
        "def run_python_file_tool(filename: str) -> str:\n",
        "    \"\"\"运行temp目录下的Python文件，系统自动拼接 \"./temp/\" 前缀, 例如 filename=\"test.py\" 则实际运行 \"./temp/test.py\"\n",
        "\n",
        "    Args:\n",
        "        filename: 文件名\n",
        "\n",
        "    Returns:\n",
        "        执行结果\n",
        "    \"\"\"\n",
        "    return run_python_file(filename)\n",
        "\n",
        "tools = [write_file_tool, run_python_file_tool]\n",
        "llm_with_tools = model.bind_tools(tools)\n",
        "\n",
        "messages = [\n",
        "    SystemMessage(content=\"你是一个编程助手。用户会给你编程任务，你需要使用可用的工具来完成任务。\"),\n",
        "    HumanMessage(content=user_task)\n",
        "]\n",
        "\n",
        "response = llm_with_tools.invoke(messages)\n",
        "\n",
        "# 执行工具调用\n",
        "tool_calls = getattr(response, 'tool_calls', [])\n",
        "if tool_calls:\n",
        "    for tool_call in tool_calls:\n",
        "        if tool_call['name'] == 'write_file_tool':\n",
        "            tool_result = write_file_tool.invoke(tool_call['args'])\n",
        "        elif tool_call['name'] == 'run_python_file_tool':\n",
        "            tool_result = run_python_file_tool.invoke(tool_call['args'])\n",
        "        else:\n",
        "            tool_result = f\"未知工具: {tool_call['name']}\"\n",
        "        \n",
        "        print(f\"工具执行结果: {tool_result}\")\n"
      ]
    },
    {
      "cell_type": "markdown",
      "metadata": {},
      "source": [
        "### 两种方法的比较\n",
        "\n",
        "#### 方法一：Pydantic JSON Schema + 手动解析\n",
        "**优点：**\n",
        "- 完全控制工具调用的流程\n",
        "- 可以自定义复杂的工具调用逻辑\n",
        "- 易于调试和理解\n",
        "\n",
        "**缺点：**\n",
        "- 需要手动处理工具调用的解析\n",
        "- 需要自己管理多轮对话状态\n",
        "- 错误处理复杂\n",
        "- 代码量较大\n",
        "\n",
        "#### Function Calling\n",
        "**优点：**\n",
        "- 自动处理工具调用的解析和执行\n",
        "- 内置多轮对话支持\n",
        "- 代码简洁\n",
        "- 错误处理更robust\n",
        "- 与LangChain生态系统无缝集成\n",
        "\n",
        "**缺点：**\n",
        "- 对工具调用流程的控制较少\n",
        "- 依赖框架的实现\n",
        "- 调试相对困难\n",
        "\n",
        "### 最佳实践建议\n",
        "\n",
        "1. 对于结构化输出，当然选择方法一\n",
        "2. 对于工具调用，优先选择 方法二\n",
        "\n",
        "### 总结\n",
        "\n",
        "需要调用工具的时候，\n",
        "1. 首先无脑选择LangChain的 .bind_tools()\n",
        "2. 极少数情况，使用各家API的 function calling (tool calling) 功能\n",
        "3. 几乎不可能出现的情况：自己定义function calling的schema并试图parse\n"
      ]
    }
  ],
  "metadata": {
    "kernelspec": {
      "display_name": "agent",
      "language": "python",
      "name": "python3"
    },
    "language_info": {
      "codemirror_mode": {
        "name": "ipython",
        "version": 3
      },
      "file_extension": ".py",
      "mimetype": "text/x-python",
      "name": "python",
      "nbconvert_exporter": "python",
      "pygments_lexer": "ipython3",
      "version": "3.13.5"
    }
  },
  "nbformat": 4,
  "nbformat_minor": 2
}
