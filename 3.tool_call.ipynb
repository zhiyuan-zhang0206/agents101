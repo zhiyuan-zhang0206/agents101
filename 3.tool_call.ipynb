{
  "cells": [
    {
      "cell_type": "markdown",
      "metadata": {},
      "source": [
        "## 工具调用 (Tool Calling)\n",
        "\n",
        "在这个notebook中，我们将演示如何让LLM调用外部工具/函数。工具调用是构建AI Agent的核心功能。\n",
        "\n",
        "### 什么是工具调用？\n",
        "- 允许LLM调用预定义的函数或工具\n",
        "- LLM决定何时调用什么工具\n",
        "- 工具执行后将结果返回给LLM\n",
        "- LLM基于工具结果生成最终响应\n",
        "\n",
        "### 应用场景\n",
        "- 数学计算\n",
        "- 数据查询\n",
        "- API调用\n",
        "- 文件操作\n",
        "- 等等...\n"
      ]
    },
    {
      "cell_type": "code",
      "execution_count": null,
      "metadata": {},
      "outputs": [
        {
          "name": "stdout",
          "output_type": "stream",
          "text": [
            "工具函数已定义完成\n"
          ]
        }
      ],
      "source": [
        "from langchain_google_genai import ChatGoogleGenerativeAI\n",
        "from langchain_core.messages import HumanMessage, AIMessage, SystemMessage, BaseMessage\n",
        "from pydantic import BaseModel, Field\n",
        "import os\n",
        "import subprocess\n",
        "import dotenv\n",
        "\n",
        "dotenv.load_dotenv()\n",
        "\n",
        "model = ChatGoogleGenerativeAI(model=\"gemini-2.5-flash\")\n",
        "\n",
        "os.makedirs(\"./temp\", exist_ok=True)\n",
        "\n",
        "def write_file(filename: str, content: str) -> str:\n",
        "    \"\"\"写入文件到temp目录\"\"\"\n",
        "    try:\n",
        "        filepath = os.path.join(\"./temp\", filename)\n",
        "        with open(filepath, \"w\", encoding=\"utf-8\") as f:\n",
        "            f.write(content)\n",
        "        return f\"文件已成功写入: {filepath}\"\n",
        "    except Exception as e:\n",
        "        return f\"写入文件失败: {str(e)}\"\n",
        "\n",
        "def run_python_file(filename: str) -> str:\n",
        "    \"\"\"运行temp目录下的Python文件\"\"\"\n",
        "    try:\n",
        "        filepath = os.path.join(\"./temp\", filename)\n",
        "        if not os.path.exists(filepath):\n",
        "            return f\"文件不存在: {filepath}\"\n",
        "        \n",
        "        result = subprocess.run(\n",
        "            [\"python3\", filepath], \n",
        "            capture_output=True, \n",
        "            text=True,\n",
        "            cwd=\"./temp\"\n",
        "        )\n",
        "        \n",
        "        output = \"\"\n",
        "        if result.stdout:\n",
        "            output += f\"输出:\\n{result.stdout}\\n\"\n",
        "        if result.stderr:\n",
        "            output += f\"错误:\\n{result.stderr}\\n\"\n",
        "        if result.returncode != 0:\n",
        "            output += f\"返回码: {result.returncode}\\n\"\n",
        "            \n",
        "        return output if output else \"程序运行完成，无输出\"\n",
        "    except Exception as e:\n",
        "        return f\"运行Python文件失败: {str(e)}\"\n",
        "\n",
        "print(\"工具函数已定义完成\")\n"
      ]
    },
    {
      "cell_type": "markdown",
      "metadata": {},
      "source": [
        "### 方法一：使用 Pydantic JSON Schema + 手动解析\n",
        "\n",
        "第一种方法是定义工具调用的结构化格式，让LLM返回工具调用的JSON，然后手动解析并执行。\n"
      ]
    },
    {
      "cell_type": "code",
      "execution_count": 17,
      "metadata": {},
      "outputs": [
        {
          "name": "stdout",
          "output_type": "stream",
          "text": [
            "工具调用: tool_name='write_file' arguments=WriteFileArgs(filename='verify_normal_mle.py', content='import numpy as np\\nfrom scipy.stats import norm\\n\\n# 1. 定义真实参数\\ntrue_mean = 10\\ntrue_std = 2\\nnum_samples = 1000\\n\\n# 2. 生成模拟数据\\ndata = norm.rvs(loc=true_mean, scale=true_std, size=num_samples)\\n\\n# 3. 计算均值的最大似然估计 (MLE)\\nmean_mle = np.mean(data)\\n\\n# 4. 计算方差的最大似然估计 (MLE)\\n# 注意：此处是方差的MLE公式，是总体方差的 biased estimator\\nvariance_mle = np.sum((data - mean_mle)**2) / num_samples\\nstd_mle = np.sqrt(variance_mle)\\n\\n# 5. 打印结果进行验证\\nprint(f\"真实均值: {true_mean:.4f}\")\\nprint(f\"MLE 估计均值: {mean_mle:.4f}\\\\n\")\\n\\nprint(f\"真实标准差: {true_std:.4f}\")\\nprint(f\"MLE 估计标准差 (基于偏置方差): {std_mle:.4f}\")\\nprint(f\"真实方差: {true_std**2:.4f}\")\\nprint(f\"MLE 估计方差 (偏置): {variance_mle:.4f}\")\\n\\n# 额外：无偏方差估计 (通常在实际中使用)\\nunbiased_variance = np.var(data, ddof=1)\\nunbiased_std = np.sqrt(unbiased_variance)\\nprint(f\"\\\\n无偏方差估计: {unbiased_variance:.4f}\")\\nprint(f\"无偏标准差估计: {unbiased_std:.4f}\")')\n",
            "工具执行结果: 文件已成功写入: ./temp/verify_normal_mle.py\n"
          ]
        }
      ],
      "source": [
        "from typing import Union, Any, Literal\n",
        "import json\n",
        "\n",
        "class WriteFileArgs(BaseModel):\n",
        "    filename: str = Field(description=\"文件名\")\n",
        "    content: str = Field(description=\"文件内容\")\n",
        "\n",
        "# class RunPythonFileArgs(BaseModel):\n",
        "#     filename: str = Field(description=\"要运行的Python文件名\")\n",
        "\n",
        "class ToolCall(BaseModel):\n",
        "    \"\"\"工具调用\"\"\"\n",
        "    tool_name: Literal[\"write_file\"] = Field(description=\"要调用的工具名称\")\n",
        "    arguments: WriteFileArgs = Field(description=\"工具调用的参数\")\n",
        "\n",
        "system_prompt = \"\"\"\n",
        "你是一个编程助手。你需要根据用户的任务调用合适的工具。\n",
        "\n",
        "可用工具：\n",
        "1. write_file - 写入文件到temp目录\n",
        "   参数：filename (文件名), content (文件内容)\n",
        "\n",
        "请严格按照以下格式返回：\n",
        "- tool_name: \"write_file\"\n",
        "- arguments: 相应的参数对象\n",
        "\n",
        "\"\"\"\n",
        "\n",
        "user_task = \"请写一个Python代码来验证一维Normal分布的最大似然估计(MLE)公式，使用模拟数据进行验证\"\n",
        "\n",
        "simple_model = model.with_structured_output(ToolCall)\n",
        "\n",
        "messages = [\n",
        "    SystemMessage(content=system_prompt),\n",
        "    HumanMessage(content=user_task)\n",
        "]\n",
        "\n",
        "tool_call = simple_model.invoke(messages)\n",
        "print(f\"工具调用: {tool_call}\")\n",
        "\n",
        "# 手动解析并执行工具\n",
        "if tool_call.tool_name == \"write_file\":  # type: ignore\n",
        "    result = write_file(**tool_call.arguments.model_dump())  # type: ignore\n",
        "else:\n",
        "    result = f\"未知工具: {tool_call.tool_name}\"  # type: ignore\n",
        "\n",
        "print(f\"工具执行结果: {result}\")"
      ]
    },
    {
      "cell_type": "code",
      "execution_count": 3,
      "metadata": {},
      "outputs": [
        {
          "data": {
            "text/plain": [
              "ToolCall(tool_name='write_file', arguments=RunPythonFileArguments(filename='normal_mle_verification.py'))"
            ]
          },
          "execution_count": 3,
          "metadata": {},
          "output_type": "execute_result"
        }
      ],
      "source": [
        "tool_call"
      ]
    },
    {
      "cell_type": "markdown",
      "metadata": {},
      "source": [
        "### 方法二：使用 Function Calling\n",
        "\n",
        "第二种方法是使用LangChain的内置function calling功能 (实际上是包装了模型提供商的function calling功能)，这样可以自动处理工具调用的解析和执行。\n"
      ]
    },
    {
      "cell_type": "code",
      "execution_count": 23,
      "metadata": {},
      "outputs": [
        {
          "name": "stdout",
          "output_type": "stream",
          "text": [
            "\n",
            "执行工具: write_file_tool\n",
            "参数: {'filename': 'mle_normal_distribution.py', 'content': 'import numpy as np\\n\\ndef generate_normal_data(mu, sigma, num_samples):\\n    \"\"\"生成一维Normal分布的模拟数据\"\"\"\\n    return np.random.normal(mu, sigma, num_samples)\\n\\ndef mle_normal_parameters(data):\\n    \"\"\"根据数据计算Normal分布的MLE参数\"\"\"\\n    n = len(data)\\n    \\n    # MLE 均值\\n    mu_mle = np.sum(data) / n\\n    \\n    # MLE 方差 (有偏估计)\\n    sigma_squared_mle = np.sum((data - mu_mle)**2) / n\\n    \\n    # MLE 标准差\\n    sigma_mle = np.sqrt(sigma_squared_mle)\\n    \\n    return mu_mle, sigma_mle\\n\\nif __name__ == \"__main__\":\\n    # 真实参数\\n    true_mu = 10.0\\n    true_sigma = 2.0\\n    num_samples = 1000\\n\\n    print(f\"真实均值 (mu): {true_mu}\")\\n    print(f\"真实标准差 (sigma): {true_sigma}\")\\n    print(f\"样本数量: {num_samples}\")\\n\\n    # 生成模拟数据\\n    simulated_data = generate_normal_data(true_mu, true_sigma, num_samples)\\n\\n    # 计算MLE参数\\n    estimated_mu, estimated_sigma = mle_normal_parameters(simulated_data)\\n\\n    print(f\"\\\\nMLE 估计均值: {estimated_mu:.4f}\")\\n    print(f\"MLE 估计标准差: {estimated_sigma:.4f}\")\\n\\n    # 使用numpy内置函数进行验证 (ddof=0 for population standard deviation)\\n    np_mu = np.mean(simulated_data)\\n    np_sigma = np.std(simulated_data, ddof=0) # ddof=0 对应有偏估计，即MLE\\n\\n    print(f\"\\\\nNumpy mean: {np_mu:.4f}\")\\n    print(f\"Numpy std (ddof=0): {np_sigma:.4f}\")\\n\\n    # 比较\\n    print(\"\\\\n验证结果:\")\\n    print(f\"MLE 均值与 Numpy 均值差异: {abs(estimated_mu - np_mu):.4e}\")\\n    print(f\"MLE 标准差与 Numpy 标准差 (ddof=0) 差异: {abs(estimated_sigma - np_sigma):.4e}\")\\n    \\n    if abs(estimated_mu - np_mu) < 1e-9 and abs(estimated_sigma - np_sigma) < 1e-9:\\n        print(\"MLE 公式与 Numpy 内置函数结果一致 (数值误差范围内)。\")\\n    else:\\n        print(\"MLE 公式与 Numpy 内置函数结果存在差异。\")'}\n",
            "工具执行结果: 文件已成功写入: ./temp/mle_normal_distribution.py\n",
            "\n",
            "LLM最终响应: \n"
          ]
        }
      ],
      "source": [
        "from langchain_core.tools import tool\n",
        "from langchain_core.messages import ToolMessage\n",
        "\n",
        "# 使用装饰器定义工具，可以提供符合Google格式的docstring\n",
        "@tool(parse_docstring=True)\n",
        "def write_file_tool(filename: str, content: str) -> str:\n",
        "    \"\"\"\n",
        "    写入文件到temp目录\n",
        "\n",
        "    Args:\n",
        "        filename: 文件名\n",
        "        content: 文件内容\n",
        "    \"\"\"\n",
        "    return write_file(filename, content)\n",
        "\n",
        "@tool  \n",
        "def run_python_file_tool(filename: str) -> str:\n",
        "    \"\"\"\n",
        "    运行temp目录下的Python文件\n",
        "\n",
        "    Args:\n",
        "        filename: 文件名\n",
        "    \"\"\"\n",
        "    return run_python_file(filename)\n",
        "\n",
        "tools = [write_file_tool, run_python_file_tool]\n",
        "llm_with_tools = model.bind_tools(tools)\n",
        "\n",
        "messages = [\n",
        "    SystemMessage(content=\"你是一个编程助手。用户会给你编程任务，你需要使用可用的工具来完成任务。\"),\n",
        "    HumanMessage(content=user_task)\n",
        "]\n",
        "\n",
        "response = llm_with_tools.invoke(messages)\n",
        "\n",
        "# 执行工具调用\n",
        "tool_calls = getattr(response, 'tool_calls', [])\n",
        "if tool_calls:\n",
        "    messages.append(response)  # 将AI的响应添加到消息历史\n",
        "    \n",
        "    for tool_call in tool_calls:\n",
        "        print(f\"\\n执行工具: {tool_call['name']}\")\n",
        "        print(f\"参数: {tool_call['args']}\")\n",
        "        \n",
        "        # 根据工具名称执行相应的工具\n",
        "        if tool_call['name'] == 'write_file_tool':\n",
        "            tool_result = write_file_tool.invoke(tool_call['args'])\n",
        "        elif tool_call['name'] == 'run_python_file_tool':\n",
        "            tool_result = run_python_file_tool.invoke(tool_call['args'])\n",
        "        else:\n",
        "            tool_result = f\"未知工具: {tool_call['name']}\"\n",
        "        \n",
        "        print(f\"工具执行结果: {tool_result}\")\n",
        "        \n",
        "        # 将工具执行结果添加到消息历史\n",
        "        messages.append(ToolMessage(\n",
        "            content=tool_result,\n",
        "            tool_call_id=tool_call['id']\n",
        "        ))\n",
        "    \n",
        "    # 获取LLM的最终响应\n",
        "    final_response = llm_with_tools.invoke(messages)\n",
        "    print(f\"\\nLLM最终响应: {final_response.content}\")\n",
        "else:\n",
        "    print(\"没有工具调用\")\n"
      ]
    },
    {
      "cell_type": "markdown",
      "metadata": {},
      "source": [
        "### 两种方法的比较\n",
        "\n",
        "#### 方法一：Pydantic JSON Schema + 手动解析\n",
        "**优点：**\n",
        "- 完全控制工具调用的流程\n",
        "- 可以自定义复杂的工具调用逻辑\n",
        "- 易于调试和理解\n",
        "\n",
        "**缺点：**\n",
        "- 需要手动处理工具调用的解析\n",
        "- 需要自己管理多轮对话状态\n",
        "- 错误处理复杂\n",
        "- 代码量较大\n",
        "\n",
        "#### 方法二：LangChain Function Calling\n",
        "**优点：**\n",
        "- 自动处理工具调用的解析和执行\n",
        "- 内置多轮对话支持\n",
        "- 代码简洁\n",
        "- 错误处理更robust\n",
        "- 与LangChain生态系统无缝集成\n",
        "\n",
        "**缺点：**\n",
        "- 对工具调用流程的控制较少\n",
        "- 依赖框架的实现\n",
        "- 调试相对困难\n",
        "\n",
        "### 最佳实践建议\n",
        "\n",
        "1. **对于简单的工具调用场景**：推荐使用 **方法二（LangChain Function Calling）**\n",
        "2. **对于需要复杂控制逻辑的场景**：考虑使用 **方法一** 或结合两种方法\n",
        "3. **对于生产环境**：优先选择 **方法二**，因为它更稳定、维护成本更低\n",
        "4. **对于学习和理解工具调用原理**：建议先理解 **方法一**，再使用 **方法二**\n",
        "\n",
        "### 总结\n",
        "\n",
        "Tool Calling是构建AI Agent的核心功能。虽然手动实现可以提供更多控制，但使用成熟的框架功能可以让我们更专注于业务逻辑，减少底层实现的复杂性。选择哪种方法取决于具体的应用场景和需求。\n"
      ]
    }
  ],
  "metadata": {
    "kernelspec": {
      "display_name": "agent",
      "language": "python",
      "name": "python3"
    },
    "language_info": {
      "codemirror_mode": {
        "name": "ipython",
        "version": 3
      },
      "file_extension": ".py",
      "mimetype": "text/x-python",
      "name": "python",
      "nbconvert_exporter": "python",
      "pygments_lexer": "ipython3",
      "version": "3.13.5"
    }
  },
  "nbformat": 4,
  "nbformat_minor": 2
}
