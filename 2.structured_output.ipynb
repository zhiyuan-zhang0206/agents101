{
 "cells": [
  {
   "cell_type": "markdown",
   "id": "6251fbbf",
   "metadata": {},
   "source": [
    "## 结构化输出 (Structured Output)\n",
    "\n",
    "在这个notebook中，我们将演示如何让LLM返回结构化的数据格式，而不是纯文本。我们将使用与chatbot相同的例子：求Normal分布的最大似然估计(MLE)。\n",
    "\n",
    "### 为什么需要结构化输出？\n",
    "- 便于程序处理和解析\n",
    "- 减少格式错误\n",
    "- 提高数据的可靠性和一致性\n",
    "- 便于与其他系统集成"
   ]
  },
  {
   "cell_type": "code",
   "execution_count": null,
   "id": "7f82fd5e",
   "metadata": {},
   "outputs": [],
   "source": [
    "from langchain_google_genai import ChatGoogleGenerativeAI\n",
    "from langchain_core.messages import HumanMessage, AIMessage, SystemMessage, BaseMessage\n",
    "import dotenv\n",
    "\n",
    "dotenv.load_dotenv()\n",
    "\n",
    "model = ChatGoogleGenerativeAI(model=\"gemini-2.5-flash\")"
   ]
  },
  {
   "cell_type": "raw",
   "metadata": {
    "vscode": {
     "languageId": "raw"
    }
   },
   "source": [
    "### 方法一：System Prompt + 手动解析 JSON\n",
    "\n",
    "第一种方法是在system prompt中明确要求模型返回特定的JSON格式，然后手动解析结果。\n"
   ]
  },
  {
   "cell_type": "code",
   "execution_count": null,
   "id": "2b8cf055",
   "metadata": {},
   "outputs": [],
   "source": [
    "import json\n",
    "from langchain_core.messages import HumanMessage, SystemMessage\n",
    "\n",
    "# 方法一：在system prompt中规定JSON格式\n",
    "system_prompt = \"\"\"\n",
    "你是一个数学助手。请用以下JSON格式回答问题：\n",
    "{\n",
    "  \"answer\": \"详细的数学推导过程\",\n",
    "  \"explanation\": \"简要说明结果的含义\"\n",
    "}\n",
    "\n",
    "请确保返回的是有效的JSON格式，不要包含任何额外的文本。\n",
    "\"\"\"\n",
    "\n",
    "user_question = \"请推导Normal分布的最大似然估计(MLE)公式\"\n",
    "\n",
    "messages = [\n",
    "    SystemMessage(content=system_prompt),\n",
    "    HumanMessage(content=user_question)\n",
    "]\n",
    "\n",
    "response = model.invoke(messages)\n",
    "print(\"原始回复:\")\n",
    "print(response.content)\n",
    "print(\"\\n\" + \"=\"*50 + \"\\n\")\n",
    "\n",
    "# 手动解析JSON\n",
    "try:\n",
    "    # 尝试解析JSON\n",
    "    content = str(response.content)\n",
    "    parsed_result = json.loads(content)\n",
    "    print(\"解析成功！\")\n",
    "    print(\"答案:\")\n",
    "    print(parsed_result[\"answer\"])\n",
    "    print(\"\\n说明:\")\n",
    "    print(parsed_result[\"explanation\"])\n",
    "except json.JSONDecodeError as e:\n",
    "    print(f\"JSON解析失败: {e}\")\n",
    "    print(\"原始内容:\")\n",
    "    print(response.content)\n"
   ]
  },
  {
   "cell_type": "raw",
   "metadata": {
    "vscode": {
     "languageId": "raw"
    }
   },
   "source": [
    "### 方法二：使用 Pydantic + JSON Schema\n",
    "\n",
    "第二种方法是使用Pydantic定义数据模型，并使用JSON Schema来指导模型输出。\n"
   ]
  },
  {
   "cell_type": "code",
   "execution_count": null,
   "id": "a1687891",
   "metadata": {},
   "outputs": [],
   "source": [
    "from pydantic import BaseModel, Field\n",
    "from typing import Optional\n",
    "\n",
    "# 定义Pydantic模型\n",
    "class MathResponse(BaseModel):\n",
    "    answer: str = Field(description=\"详细的数学推导过程\")\n",
    "    explanation: str = Field(description=\"简要说明结果的含义\")\n",
    "\n",
    "# 使用structured output功能\n",
    "structured_model = model.with_structured_output(MathResponse)\n",
    "\n",
    "# 直接调用，无需特殊的system prompt\n",
    "user_question = \"请推导Normal分布的最大似然估计(MLE)公式\"\n",
    "\n",
    "print(\"使用Pydantic结构化输出:\")\n",
    "result = structured_model.invoke(user_question)\n",
    "\n",
    "print(\"类型:\", type(result))\n",
    "print(\"答案:\")\n",
    "print(result.answer)  # type: ignore\n",
    "print(\"\\n说明:\")\n",
    "print(result.explanation)  # type: ignore\n",
    "\n",
    "# 可以直接访问属性，也可以转换为字典\n",
    "print(\"\\n转换为字典:\")\n",
    "if hasattr(result, 'model_dump'):\n",
    "    result_dict = result.model_dump()  # type: ignore\n",
    "else:\n",
    "    result_dict = result\n",
    "print(result_dict)\n"
   ]
  },
  {
   "cell_type": "raw",
   "metadata": {
    "vscode": {
     "languageId": "raw"
    }
   },
   "source": [
    "### 为什么不应该自己实现JSON模式？\n",
    "\n",
    "虽然方法一（手动解析JSON）看起来简单直接，但实际上存在许多问题：\n",
    "\n",
    "#### 1. 可靠性问题\n",
    "- **格式不稳定**：LLM可能返回不符合JSON格式的内容\n",
    "- **解析错误**：手动解析容易出现各种边界情况\n",
    "- **不一致性**：不同的调用可能返回不同的格式\n",
    "\n",
    "#### 2. 维护成本\n",
    "- **错误处理复杂**：需要处理各种解析异常\n",
    "- **格式验证**：需要手动验证字段是否存在和类型是否正确\n",
    "- **代码重复**：每个不同的结构都需要重新编写解析逻辑\n",
    "\n",
    "#### 3. 缺乏类型安全\n",
    "- **运行时错误**：字段访问错误只能在运行时发现\n",
    "- **IDE支持差**：无法获得代码补全和类型提示\n",
    "- **重构困难**：修改数据结构时容易遗漏更新\n",
    "\n",
    "#### 4. 结构化输出的优势\n",
    "- **内置验证**：自动验证数据类型和结构\n",
    "- **类型安全**：编译时检查，IDE支持完整\n",
    "- **一致性保证**：框架确保输出格式的一致性\n",
    "- **易于维护**：使用标准化的方式定义和使用数据结构\n",
    "\n",
    "#### 5. 最佳实践\n",
    "- **使用框架提供的结构化输出功能**\n",
    "- **定义清晰的Pydantic模型**\n",
    "- **利用类型系统提供的安全性**\n",
    "- **避免手动字符串解析**\n",
    "\n",
    "### 结论\n",
    "\n",
    "现代LLM框架（如LangChain）提供的结构化输出功能已经很成熟，可以自动处理JSON Schema生成、验证和解析。我们应该利用这些工具，而不是重新发明轮子。\n"
   ]
  }
 ],
 "metadata": {
  "kernelspec": {
   "display_name": "agent",
   "language": "python",
   "name": "python3"
  },
  "language_info": {
   "name": "python",
   "version": "3.13.5"
  }
 },
 "nbformat": 4,
 "nbformat_minor": 5
}
